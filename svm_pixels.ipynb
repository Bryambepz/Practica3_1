{
  "nbformat": 4,
  "nbformat_minor": 0,
  "metadata": {
    "colab": {
      "provenance": []
    },
    "kernelspec": {
      "name": "python3",
      "display_name": "Python 3"
    },
    "language_info": {
      "name": "python"
    }
  },
  "cells": [
    {
      "cell_type": "markdown",
      "source": [
        "# Creamos el cuaderno para el clasificador"
      ],
      "metadata": {
        "id": "bAlNJUW79KWi"
      }
    },
    {
      "cell_type": "markdown",
      "source": [
        "# Importamos las Librerias necesarias"
      ],
      "metadata": {
        "id": "v8-YDiXM9PTV"
      }
    },
    {
      "cell_type": "code",
      "execution_count": null,
      "metadata": {
        "id": "oPlDTij7ubHl"
      },
      "outputs": [],
      "source": [
        "import pandas as pd\n",
        "import os\n",
        "from skimage.transform import resize\n",
        "from skimage.io import imread\n",
        "import numpy as np\n",
        "import matplotlib.pyplot as plt\n",
        "\n",
        "from sklearn import svm\n",
        "from sklearn.model_selection import GridSearchCV\n",
        "from sklearn.model_selection import train_test_split"
      ]
    },
    {
      "cell_type": "markdown",
      "source": [
        "#Importamos los datasets"
      ],
      "metadata": {
        "id": "GB0_UMJK9TSW"
      }
    },
    {
      "cell_type": "code",
      "source": [
        "from google.colab import drive\n",
        "drive.mount('/content/drive')"
      ],
      "metadata": {
        "colab": {
          "base_uri": "https://localhost:8080/"
        },
        "id": "juusveSUugVm",
        "outputId": "97f3297b-5420-4f88-c32c-ad8b8213ac8f"
      },
      "execution_count": null,
      "outputs": [
        {
          "output_type": "stream",
          "name": "stdout",
          "text": [
            "Drive already mounted at /content/drive; to attempt to forcibly remount, call drive.mount(\"/content/drive\", force_remount=True).\n"
          ]
        }
      ]
    },
    {
      "cell_type": "code",
      "source": [
        "%cd /content/drive/My Drive/Colab Notebooks/pixeles_data/\n",
        "%ls"
      ],
      "metadata": {
        "colab": {
          "base_uri": "https://localhost:8080/"
        },
        "id": "1QmM32tpug8I",
        "outputId": "040b42d8-ed7a-4936-8c2f-20652b441a54"
      },
      "execution_count": null,
      "outputs": [
        {
          "output_type": "stream",
          "name": "stdout",
          "text": [
            "/content/drive/My Drive/Colab Notebooks/pixeles_data\n",
            "histograma.csv\n"
          ]
        }
      ]
    },
    {
      "cell_type": "code",
      "source": [
        "df_train = pd.read_csv('/content/drive/My Drive/Colab Notebooks/pixeles_data/histograma.csv', sep = ',')\n",
        "df_train = df_train.sample(frac=1).reset_index(drop=True)\n",
        "df_train.head(10)"
      ],
      "metadata": {
        "colab": {
          "base_uri": "https://localhost:8080/",
          "height": 392
        },
        "id": "fA_mgWasun6S",
        "outputId": "fc6f9a3c-c39a-41dc-a43d-a199ba06d220"
      },
      "execution_count": null,
      "outputs": [
        {
          "output_type": "execute_result",
          "data": {
            "text/plain": [
              "      0    1     2    3    4  5    6     7     8   9  ...   247   248   249  \\\n",
              "0  4168   25  2370  651   49  2  221   326  1043  57  ...   113   199   585   \n",
              "1  2712  180  3307  286   83  0  321   582   252  15  ...   820   904  1124   \n",
              "2  3581   10  2998  189    7  1  403   219   246   6  ...   393   267   111   \n",
              "3  2166    0  4733   16    1  0  284    82    33   1  ...    84   159    16   \n",
              "4  3190   16  3478   17    1  0  701   107    15   1  ...   427   105    47   \n",
              "5  3660    0  1561  489   17  0  421  1067  1101  47  ...   426   602   487   \n",
              "6  2794   76   908  122   31  0  660   867   704  64  ...  1562  2244   379   \n",
              "7  4246    2   940  565  101  0  691   701  2240  98  ...   195   315   435   \n",
              "8  3555    0  4256  275    0  0   21   107   119   1  ...   133    43   345   \n",
              "9  2365    8  4507   37    2  0  582    61    69   4  ...    59    80    88   \n",
              "\n",
              "   250  251  252   253  254   255   salida  \n",
              "0    1   48  124  1873   68  6188   Forest  \n",
              "1    0    9  966  2176   23  3873  Glacier  \n",
              "2    0   12  290  3250    8  4894  Glacier  \n",
              "3    0   12   62  5081    4  4788  Glacier  \n",
              "4    0   22  244  2949    0  5632  Glacier  \n",
              "5    1  189  497  1468  263  5391   Forest  \n",
              "6    3  114  651  1745   76  5327  Glacier  \n",
              "7    0  159  240  1470  169  4818   Forest  \n",
              "8    0   86  193  2937   97  5225   Forest  \n",
              "9    1    5   62  4558    5  4435  Glacier  \n",
              "\n",
              "[10 rows x 257 columns]"
            ],
            "text/html": [
              "\n",
              "  <div id=\"df-9424d2f8-2165-44ce-880c-d14782bdbacd\">\n",
              "    <div class=\"colab-df-container\">\n",
              "      <div>\n",
              "<style scoped>\n",
              "    .dataframe tbody tr th:only-of-type {\n",
              "        vertical-align: middle;\n",
              "    }\n",
              "\n",
              "    .dataframe tbody tr th {\n",
              "        vertical-align: top;\n",
              "    }\n",
              "\n",
              "    .dataframe thead th {\n",
              "        text-align: right;\n",
              "    }\n",
              "</style>\n",
              "<table border=\"1\" class=\"dataframe\">\n",
              "  <thead>\n",
              "    <tr style=\"text-align: right;\">\n",
              "      <th></th>\n",
              "      <th>0</th>\n",
              "      <th>1</th>\n",
              "      <th>2</th>\n",
              "      <th>3</th>\n",
              "      <th>4</th>\n",
              "      <th>5</th>\n",
              "      <th>6</th>\n",
              "      <th>7</th>\n",
              "      <th>8</th>\n",
              "      <th>9</th>\n",
              "      <th>...</th>\n",
              "      <th>247</th>\n",
              "      <th>248</th>\n",
              "      <th>249</th>\n",
              "      <th>250</th>\n",
              "      <th>251</th>\n",
              "      <th>252</th>\n",
              "      <th>253</th>\n",
              "      <th>254</th>\n",
              "      <th>255</th>\n",
              "      <th>salida</th>\n",
              "    </tr>\n",
              "  </thead>\n",
              "  <tbody>\n",
              "    <tr>\n",
              "      <th>0</th>\n",
              "      <td>4168</td>\n",
              "      <td>25</td>\n",
              "      <td>2370</td>\n",
              "      <td>651</td>\n",
              "      <td>49</td>\n",
              "      <td>2</td>\n",
              "      <td>221</td>\n",
              "      <td>326</td>\n",
              "      <td>1043</td>\n",
              "      <td>57</td>\n",
              "      <td>...</td>\n",
              "      <td>113</td>\n",
              "      <td>199</td>\n",
              "      <td>585</td>\n",
              "      <td>1</td>\n",
              "      <td>48</td>\n",
              "      <td>124</td>\n",
              "      <td>1873</td>\n",
              "      <td>68</td>\n",
              "      <td>6188</td>\n",
              "      <td>Forest</td>\n",
              "    </tr>\n",
              "    <tr>\n",
              "      <th>1</th>\n",
              "      <td>2712</td>\n",
              "      <td>180</td>\n",
              "      <td>3307</td>\n",
              "      <td>286</td>\n",
              "      <td>83</td>\n",
              "      <td>0</td>\n",
              "      <td>321</td>\n",
              "      <td>582</td>\n",
              "      <td>252</td>\n",
              "      <td>15</td>\n",
              "      <td>...</td>\n",
              "      <td>820</td>\n",
              "      <td>904</td>\n",
              "      <td>1124</td>\n",
              "      <td>0</td>\n",
              "      <td>9</td>\n",
              "      <td>966</td>\n",
              "      <td>2176</td>\n",
              "      <td>23</td>\n",
              "      <td>3873</td>\n",
              "      <td>Glacier</td>\n",
              "    </tr>\n",
              "    <tr>\n",
              "      <th>2</th>\n",
              "      <td>3581</td>\n",
              "      <td>10</td>\n",
              "      <td>2998</td>\n",
              "      <td>189</td>\n",
              "      <td>7</td>\n",
              "      <td>1</td>\n",
              "      <td>403</td>\n",
              "      <td>219</td>\n",
              "      <td>246</td>\n",
              "      <td>6</td>\n",
              "      <td>...</td>\n",
              "      <td>393</td>\n",
              "      <td>267</td>\n",
              "      <td>111</td>\n",
              "      <td>0</td>\n",
              "      <td>12</td>\n",
              "      <td>290</td>\n",
              "      <td>3250</td>\n",
              "      <td>8</td>\n",
              "      <td>4894</td>\n",
              "      <td>Glacier</td>\n",
              "    </tr>\n",
              "    <tr>\n",
              "      <th>3</th>\n",
              "      <td>2166</td>\n",
              "      <td>0</td>\n",
              "      <td>4733</td>\n",
              "      <td>16</td>\n",
              "      <td>1</td>\n",
              "      <td>0</td>\n",
              "      <td>284</td>\n",
              "      <td>82</td>\n",
              "      <td>33</td>\n",
              "      <td>1</td>\n",
              "      <td>...</td>\n",
              "      <td>84</td>\n",
              "      <td>159</td>\n",
              "      <td>16</td>\n",
              "      <td>0</td>\n",
              "      <td>12</td>\n",
              "      <td>62</td>\n",
              "      <td>5081</td>\n",
              "      <td>4</td>\n",
              "      <td>4788</td>\n",
              "      <td>Glacier</td>\n",
              "    </tr>\n",
              "    <tr>\n",
              "      <th>4</th>\n",
              "      <td>3190</td>\n",
              "      <td>16</td>\n",
              "      <td>3478</td>\n",
              "      <td>17</td>\n",
              "      <td>1</td>\n",
              "      <td>0</td>\n",
              "      <td>701</td>\n",
              "      <td>107</td>\n",
              "      <td>15</td>\n",
              "      <td>1</td>\n",
              "      <td>...</td>\n",
              "      <td>427</td>\n",
              "      <td>105</td>\n",
              "      <td>47</td>\n",
              "      <td>0</td>\n",
              "      <td>22</td>\n",
              "      <td>244</td>\n",
              "      <td>2949</td>\n",
              "      <td>0</td>\n",
              "      <td>5632</td>\n",
              "      <td>Glacier</td>\n",
              "    </tr>\n",
              "    <tr>\n",
              "      <th>5</th>\n",
              "      <td>3660</td>\n",
              "      <td>0</td>\n",
              "      <td>1561</td>\n",
              "      <td>489</td>\n",
              "      <td>17</td>\n",
              "      <td>0</td>\n",
              "      <td>421</td>\n",
              "      <td>1067</td>\n",
              "      <td>1101</td>\n",
              "      <td>47</td>\n",
              "      <td>...</td>\n",
              "      <td>426</td>\n",
              "      <td>602</td>\n",
              "      <td>487</td>\n",
              "      <td>1</td>\n",
              "      <td>189</td>\n",
              "      <td>497</td>\n",
              "      <td>1468</td>\n",
              "      <td>263</td>\n",
              "      <td>5391</td>\n",
              "      <td>Forest</td>\n",
              "    </tr>\n",
              "    <tr>\n",
              "      <th>6</th>\n",
              "      <td>2794</td>\n",
              "      <td>76</td>\n",
              "      <td>908</td>\n",
              "      <td>122</td>\n",
              "      <td>31</td>\n",
              "      <td>0</td>\n",
              "      <td>660</td>\n",
              "      <td>867</td>\n",
              "      <td>704</td>\n",
              "      <td>64</td>\n",
              "      <td>...</td>\n",
              "      <td>1562</td>\n",
              "      <td>2244</td>\n",
              "      <td>379</td>\n",
              "      <td>3</td>\n",
              "      <td>114</td>\n",
              "      <td>651</td>\n",
              "      <td>1745</td>\n",
              "      <td>76</td>\n",
              "      <td>5327</td>\n",
              "      <td>Glacier</td>\n",
              "    </tr>\n",
              "    <tr>\n",
              "      <th>7</th>\n",
              "      <td>4246</td>\n",
              "      <td>2</td>\n",
              "      <td>940</td>\n",
              "      <td>565</td>\n",
              "      <td>101</td>\n",
              "      <td>0</td>\n",
              "      <td>691</td>\n",
              "      <td>701</td>\n",
              "      <td>2240</td>\n",
              "      <td>98</td>\n",
              "      <td>...</td>\n",
              "      <td>195</td>\n",
              "      <td>315</td>\n",
              "      <td>435</td>\n",
              "      <td>0</td>\n",
              "      <td>159</td>\n",
              "      <td>240</td>\n",
              "      <td>1470</td>\n",
              "      <td>169</td>\n",
              "      <td>4818</td>\n",
              "      <td>Forest</td>\n",
              "    </tr>\n",
              "    <tr>\n",
              "      <th>8</th>\n",
              "      <td>3555</td>\n",
              "      <td>0</td>\n",
              "      <td>4256</td>\n",
              "      <td>275</td>\n",
              "      <td>0</td>\n",
              "      <td>0</td>\n",
              "      <td>21</td>\n",
              "      <td>107</td>\n",
              "      <td>119</td>\n",
              "      <td>1</td>\n",
              "      <td>...</td>\n",
              "      <td>133</td>\n",
              "      <td>43</td>\n",
              "      <td>345</td>\n",
              "      <td>0</td>\n",
              "      <td>86</td>\n",
              "      <td>193</td>\n",
              "      <td>2937</td>\n",
              "      <td>97</td>\n",
              "      <td>5225</td>\n",
              "      <td>Forest</td>\n",
              "    </tr>\n",
              "    <tr>\n",
              "      <th>9</th>\n",
              "      <td>2365</td>\n",
              "      <td>8</td>\n",
              "      <td>4507</td>\n",
              "      <td>37</td>\n",
              "      <td>2</td>\n",
              "      <td>0</td>\n",
              "      <td>582</td>\n",
              "      <td>61</td>\n",
              "      <td>69</td>\n",
              "      <td>4</td>\n",
              "      <td>...</td>\n",
              "      <td>59</td>\n",
              "      <td>80</td>\n",
              "      <td>88</td>\n",
              "      <td>1</td>\n",
              "      <td>5</td>\n",
              "      <td>62</td>\n",
              "      <td>4558</td>\n",
              "      <td>5</td>\n",
              "      <td>4435</td>\n",
              "      <td>Glacier</td>\n",
              "    </tr>\n",
              "  </tbody>\n",
              "</table>\n",
              "<p>10 rows × 257 columns</p>\n",
              "</div>\n",
              "      <button class=\"colab-df-convert\" onclick=\"convertToInteractive('df-9424d2f8-2165-44ce-880c-d14782bdbacd')\"\n",
              "              title=\"Convert this dataframe to an interactive table.\"\n",
              "              style=\"display:none;\">\n",
              "        \n",
              "  <svg xmlns=\"http://www.w3.org/2000/svg\" height=\"24px\"viewBox=\"0 0 24 24\"\n",
              "       width=\"24px\">\n",
              "    <path d=\"M0 0h24v24H0V0z\" fill=\"none\"/>\n",
              "    <path d=\"M18.56 5.44l.94 2.06.94-2.06 2.06-.94-2.06-.94-.94-2.06-.94 2.06-2.06.94zm-11 1L8.5 8.5l.94-2.06 2.06-.94-2.06-.94L8.5 2.5l-.94 2.06-2.06.94zm10 10l.94 2.06.94-2.06 2.06-.94-2.06-.94-.94-2.06-.94 2.06-2.06.94z\"/><path d=\"M17.41 7.96l-1.37-1.37c-.4-.4-.92-.59-1.43-.59-.52 0-1.04.2-1.43.59L10.3 9.45l-7.72 7.72c-.78.78-.78 2.05 0 2.83L4 21.41c.39.39.9.59 1.41.59.51 0 1.02-.2 1.41-.59l7.78-7.78 2.81-2.81c.8-.78.8-2.07 0-2.86zM5.41 20L4 18.59l7.72-7.72 1.47 1.35L5.41 20z\"/>\n",
              "  </svg>\n",
              "      </button>\n",
              "      \n",
              "  <style>\n",
              "    .colab-df-container {\n",
              "      display:flex;\n",
              "      flex-wrap:wrap;\n",
              "      gap: 12px;\n",
              "    }\n",
              "\n",
              "    .colab-df-convert {\n",
              "      background-color: #E8F0FE;\n",
              "      border: none;\n",
              "      border-radius: 50%;\n",
              "      cursor: pointer;\n",
              "      display: none;\n",
              "      fill: #1967D2;\n",
              "      height: 32px;\n",
              "      padding: 0 0 0 0;\n",
              "      width: 32px;\n",
              "    }\n",
              "\n",
              "    .colab-df-convert:hover {\n",
              "      background-color: #E2EBFA;\n",
              "      box-shadow: 0px 1px 2px rgba(60, 64, 67, 0.3), 0px 1px 3px 1px rgba(60, 64, 67, 0.15);\n",
              "      fill: #174EA6;\n",
              "    }\n",
              "\n",
              "    [theme=dark] .colab-df-convert {\n",
              "      background-color: #3B4455;\n",
              "      fill: #D2E3FC;\n",
              "    }\n",
              "\n",
              "    [theme=dark] .colab-df-convert:hover {\n",
              "      background-color: #434B5C;\n",
              "      box-shadow: 0px 1px 3px 1px rgba(0, 0, 0, 0.15);\n",
              "      filter: drop-shadow(0px 1px 2px rgba(0, 0, 0, 0.3));\n",
              "      fill: #FFFFFF;\n",
              "    }\n",
              "  </style>\n",
              "\n",
              "      <script>\n",
              "        const buttonEl =\n",
              "          document.querySelector('#df-9424d2f8-2165-44ce-880c-d14782bdbacd button.colab-df-convert');\n",
              "        buttonEl.style.display =\n",
              "          google.colab.kernel.accessAllowed ? 'block' : 'none';\n",
              "\n",
              "        async function convertToInteractive(key) {\n",
              "          const element = document.querySelector('#df-9424d2f8-2165-44ce-880c-d14782bdbacd');\n",
              "          const dataTable =\n",
              "            await google.colab.kernel.invokeFunction('convertToInteractive',\n",
              "                                                     [key], {});\n",
              "          if (!dataTable) return;\n",
              "\n",
              "          const docLinkHtml = 'Like what you see? Visit the ' +\n",
              "            '<a target=\"_blank\" href=https://colab.research.google.com/notebooks/data_table.ipynb>data table notebook</a>'\n",
              "            + ' to learn more about interactive tables.';\n",
              "          element.innerHTML = '';\n",
              "          dataTable['output_type'] = 'display_data';\n",
              "          await google.colab.output.renderOutput(dataTable, element);\n",
              "          const docLink = document.createElement('div');\n",
              "          docLink.innerHTML = docLinkHtml;\n",
              "          element.appendChild(docLink);\n",
              "        }\n",
              "      </script>\n",
              "    </div>\n",
              "  </div>\n",
              "  "
            ]
          },
          "metadata": {},
          "execution_count": 30
        }
      ]
    },
    {
      "cell_type": "markdown",
      "source": [
        "# Se separan los datos para ser usados después en la máquina de soporte vectorial"
      ],
      "metadata": {
        "id": "dPSp6v7U9aZh"
      }
    },
    {
      "cell_type": "code",
      "source": [
        "x_train = df_train.iloc[:,0:-1]\n",
        "x_train\n",
        "y_train = df_train.iloc[:,-1]\n",
        "y_train"
      ],
      "metadata": {
        "colab": {
          "base_uri": "https://localhost:8080/"
        },
        "id": "tI3YE1ijwrit",
        "outputId": "f8ce03a3-e929-448b-8ffa-96b6408b2c05"
      },
      "execution_count": null,
      "outputs": [
        {
          "output_type": "execute_result",
          "data": {
            "text/plain": [
              "0      Forest\n",
              "1     Glacier\n",
              "2     Glacier\n",
              "3     Glacier\n",
              "4     Glacier\n",
              "5      Forest\n",
              "6     Glacier\n",
              "7      Forest\n",
              "8      Forest\n",
              "9     Glacier\n",
              "10     Forest\n",
              "11    Glacier\n",
              "12    Glacier\n",
              "13     Forest\n",
              "14     Forest\n",
              "15     Forest\n",
              "16     Forest\n",
              "17    Glacier\n",
              "18    Glacier\n",
              "19     Forest\n",
              "Name: salida, dtype: object"
            ]
          },
          "metadata": {},
          "execution_count": 31
        }
      ]
    },
    {
      "cell_type": "code",
      "source": [
        "print(x_train.shape)\n",
        "print(y_train.shape)"
      ],
      "metadata": {
        "colab": {
          "base_uri": "https://localhost:8080/"
        },
        "id": "iG8Zrz_HwzrF",
        "outputId": "7a82b0e4-a538-44a1-d8b9-c6f0c7ba6c28"
      },
      "execution_count": null,
      "outputs": [
        {
          "output_type": "stream",
          "name": "stdout",
          "text": [
            "(20, 256)\n",
            "(20,)\n"
          ]
        }
      ]
    },
    {
      "cell_type": "markdown",
      "source": [
        "# Instamaciamos la SVM"
      ],
      "metadata": {
        "id": "Y-HkChzS9mNO"
      }
    },
    {
      "cell_type": "code",
      "source": [
        "param_grid={'C':[0.1,1,10,100],'gamma':[1,0.1,0.01,0.001,0.001],'kernel':['rbf','poly', 'linear', 'sigmoid']}\n",
        "svc=svm.SVC(probability=True)\n",
        "model=GridSearchCV(svc,param_grid, n_jobs=-1, verbose = 1, cv=5)"
      ],
      "metadata": {
        "id": "AcGrdV9DyBCb"
      },
      "execution_count": null,
      "outputs": []
    },
    {
      "cell_type": "code",
      "source": [
        "x_train,x_test,y_train,y_test=train_test_split(x_train,y_train,test_size=0.20,stratify=y_train)\n",
        "print(x_train.shape)\n",
        "print(x_test.shape)\n",
        "print(y_train.shape)\n",
        "print(y_test.shape)"
      ],
      "metadata": {
        "colab": {
          "base_uri": "https://localhost:8080/"
        },
        "id": "qBbODGOGpKtj",
        "outputId": "0c19fd55-d133-4f0c-bd80-bcc8473e0610"
      },
      "execution_count": null,
      "outputs": [
        {
          "output_type": "stream",
          "name": "stdout",
          "text": [
            "(16, 256)\n",
            "(4, 256)\n",
            "(16,)\n",
            "(4,)\n"
          ]
        }
      ]
    },
    {
      "cell_type": "code",
      "source": [
        "model.fit(x_train, y_train)\n",
        "print('The Model is trained well with the given images')"
      ],
      "metadata": {
        "colab": {
          "base_uri": "https://localhost:8080/"
        },
        "id": "BsLq2aDAyOeZ",
        "outputId": "465d90c4-a974-4aa6-c37e-35e209abf613"
      },
      "execution_count": null,
      "outputs": [
        {
          "output_type": "stream",
          "name": "stdout",
          "text": [
            "Fitting 5 folds for each of 80 candidates, totalling 400 fits\n",
            "The Model is trained well with the given images\n"
          ]
        }
      ]
    },
    {
      "cell_type": "markdown",
      "source": [
        "# Evaluamos y obtenemos los resultados"
      ],
      "metadata": {
        "id": "nEqHP0uE9p4H"
      }
    },
    {
      "cell_type": "code",
      "source": [
        "from sklearn import metrics\n",
        "y_pred = model.predict(x_test)\n",
        "print(\"Accuracy:\",metrics.accuracy_score(y_test, y_pred))"
      ],
      "metadata": {
        "colab": {
          "base_uri": "https://localhost:8080/"
        },
        "id": "lryodO2-yYWs",
        "outputId": "a3d43057-5245-482e-bd93-49463ae12f57"
      },
      "execution_count": null,
      "outputs": [
        {
          "output_type": "stream",
          "name": "stdout",
          "text": [
            "Accuracy: 0.75\n"
          ]
        }
      ]
    },
    {
      "cell_type": "code",
      "source": [
        "model.best_params_"
      ],
      "metadata": {
        "colab": {
          "base_uri": "https://localhost:8080/"
        },
        "id": "EHPePsVr1QBS",
        "outputId": "8e00d62d-15cd-431a-f123-ceed76beff87"
      },
      "execution_count": null,
      "outputs": [
        {
          "output_type": "execute_result",
          "data": {
            "text/plain": [
              "{'C': 0.1, 'gamma': 1, 'kernel': 'linear'}"
            ]
          },
          "metadata": {},
          "execution_count": 37
        }
      ]
    },
    {
      "cell_type": "code",
      "source": [
        "import seaborn as sns\n",
        "from sklearn.metrics import confusion_matrix\n",
        "from sklearn import metrics \n",
        "from sklearn.metrics import accuracy_score\n",
        "from sklearn.metrics import precision_score\n",
        "from sklearn.metrics import recall_score\n",
        "from sklearn.metrics import f1_score\n",
        "\n",
        "\n",
        "\n",
        "# MAE=metrics.mean_absolute_error(y_test, y_pred)\n",
        "# MSE=metrics.mean_squared_error(y_test, y_pred)\n",
        "# RMSE=np.sqrt(metrics.mean_squared_error(y_test, y_pred))\n",
        "accuracy=str(accuracy_score(y_test, y_pred))\n",
        "\n",
        "# MAE=str(round(MAE, 4))\n",
        "# MSE=str(round(MSE, 4))\n",
        "# RMSE=str(round(RMSE, 4))\n",
        "\n",
        "print('Confusion_matrix:')\n",
        "y_test_transformado = y_test\n",
        "y_pred_transformado = y_pred\n",
        "\n",
        "cm = confusion_matrix(y_test_transformado, y_pred_transformado)\n",
        "ax= plt.subplot()\n",
        "sns.heatmap(cm, annot=True, ax = ax, cmap='Blues', fmt='g'); #annot=True to annotate cells\n",
        "ax.set_xlabel('Predicción');ax.set_ylabel('Real'); \n",
        "ax.set_title('Matriz de confusión de la Red'); "
      ],
      "metadata": {
        "colab": {
          "base_uri": "https://localhost:8080/",
          "height": 313
        },
        "id": "9NIGEspV5fxQ",
        "outputId": "70154f90-f256-4a18-f333-59e78c06503b"
      },
      "execution_count": null,
      "outputs": [
        {
          "output_type": "stream",
          "name": "stdout",
          "text": [
            "Confusion_matrix:\n"
          ]
        },
        {
          "output_type": "display_data",
          "data": {
            "text/plain": [
              "<Figure size 432x288 with 2 Axes>"
            ],
            "image/png": "[encoded data removed]"
          },
          "metadata": {
            "needs_background": "light"
          }
        }
      ]
    },
    {
      "cell_type": "code",
      "source": [
        "precision=precision_score(y_test, y_pred, average='micro')\n",
        "precision=str(round(precision, 4))\n",
        "recall=recall_score(y_test, y_pred, average='micro')\n",
        "recall=str(round(recall, 4))\n",
        "f1=f1_score(y_test, y_pred, average='micro')\n",
        "f1=str(round(f1, 4))\n"
      ],
      "metadata": {
        "id": "cuWzL6ps5hOS"
      },
      "execution_count": null,
      "outputs": []
    },
    {
      "cell_type": "code",
      "source": [
        "colums = ['Accuracy', 'Precision', 'Recall', 'F1']\n",
        "vals = {'Accuracy': 0.6528571428571428, 'Precision':0.6529, 'Recall':0.6529, 'F1':0.6529}\n",
        "df_metrics = pd.DataFrame(columns=colums)\n",
        "df_metrics = df_metrics.append(vals, ignore_index=True)\n",
        "df_metrics"
      ],
      "metadata": {
        "colab": {
          "base_uri": "https://localhost:8080/",
          "height": 81
        },
        "id": "Y6c4CNQ-6EvC",
        "outputId": "bbee9952-c46a-429a-fddd-c3e18a8b2363"
      },
      "execution_count": null,
      "outputs": [
        {
          "output_type": "execute_result",
          "data": {
            "text/plain": [
              "   Accuracy  Precision  Recall      F1\n",
              "0  0.652857     0.6529  0.6529  0.6529"
            ],
            "text/html": [
              "\n",
              "  <div id=\"df-6f38eec6-f7ac-430c-8cf7-49fb931f474e\">\n",
              "    <div class=\"colab-df-container\">\n",
              "      <div>\n",
              "<style scoped>\n",
              "    .dataframe tbody tr th:only-of-type {\n",
              "        vertical-align: middle;\n",
              "    }\n",
              "\n",
              "    .dataframe tbody tr th {\n",
              "        vertical-align: top;\n",
              "    }\n",
              "\n",
              "    .dataframe thead th {\n",
              "        text-align: right;\n",
              "    }\n",
              "</style>\n",
              "<table border=\"1\" class=\"dataframe\">\n",
              "  <thead>\n",
              "    <tr style=\"text-align: right;\">\n",
              "      <th></th>\n",
              "      <th>Accuracy</th>\n",
              "      <th>Precision</th>\n",
              "      <th>Recall</th>\n",
              "      <th>F1</th>\n",
              "    </tr>\n",
              "  </thead>\n",
              "  <tbody>\n",
              "    <tr>\n",
              "      <th>0</th>\n",
              "      <td>0.652857</td>\n",
              "      <td>0.6529</td>\n",
              "      <td>0.6529</td>\n",
              "      <td>0.6529</td>\n",
              "    </tr>\n",
              "  </tbody>\n",
              "</table>\n",
              "</div>\n",
              "      <button class=\"colab-df-convert\" onclick=\"convertToInteractive('df-6f38eec6-f7ac-430c-8cf7-49fb931f474e')\"\n",
              "              title=\"Convert this dataframe to an interactive table.\"\n",
              "              style=\"display:none;\">\n",
              "        \n",
              "  <svg xmlns=\"http://www.w3.org/2000/svg\" height=\"24px\"viewBox=\"0 0 24 24\"\n",
              "       width=\"24px\">\n",
              "    <path d=\"M0 0h24v24H0V0z\" fill=\"none\"/>\n",
              "    <path d=\"M18.56 5.44l.94 2.06.94-2.06 2.06-.94-2.06-.94-.94-2.06-.94 2.06-2.06.94zm-11 1L8.5 8.5l.94-2.06 2.06-.94-2.06-.94L8.5 2.5l-.94 2.06-2.06.94zm10 10l.94 2.06.94-2.06 2.06-.94-2.06-.94-.94-2.06-.94 2.06-2.06.94z\"/><path d=\"M17.41 7.96l-1.37-1.37c-.4-.4-.92-.59-1.43-.59-.52 0-1.04.2-1.43.59L10.3 9.45l-7.72 7.72c-.78.78-.78 2.05 0 2.83L4 21.41c.39.39.9.59 1.41.59.51 0 1.02-.2 1.41-.59l7.78-7.78 2.81-2.81c.8-.78.8-2.07 0-2.86zM5.41 20L4 18.59l7.72-7.72 1.47 1.35L5.41 20z\"/>\n",
              "  </svg>\n",
              "      </button>\n",
              "      \n",
              "  <style>\n",
              "    .colab-df-container {\n",
              "      display:flex;\n",
              "      flex-wrap:wrap;\n",
              "      gap: 12px;\n",
              "    }\n",
              "\n",
              "    .colab-df-convert {\n",
              "      background-color: #E8F0FE;\n",
              "      border: none;\n",
              "      border-radius: 50%;\n",
              "      cursor: pointer;\n",
              "      display: none;\n",
              "      fill: #1967D2;\n",
              "      height: 32px;\n",
              "      padding: 0 0 0 0;\n",
              "      width: 32px;\n",
              "    }\n",
              "\n",
              "    .colab-df-convert:hover {\n",
              "      background-color: #E2EBFA;\n",
              "      box-shadow: 0px 1px 2px rgba(60, 64, 67, 0.3), 0px 1px 3px 1px rgba(60, 64, 67, 0.15);\n",
              "      fill: #174EA6;\n",
              "    }\n",
              "\n",
              "    [theme=dark] .colab-df-convert {\n",
              "      background-color: #3B4455;\n",
              "      fill: #D2E3FC;\n",
              "    }\n",
              "\n",
              "    [theme=dark] .colab-df-convert:hover {\n",
              "      background-color: #434B5C;\n",
              "      box-shadow: 0px 1px 3px 1px rgba(0, 0, 0, 0.15);\n",
              "      filter: drop-shadow(0px 1px 2px rgba(0, 0, 0, 0.3));\n",
              "      fill: #FFFFFF;\n",
              "    }\n",
              "  </style>\n",
              "\n",
              "      <script>\n",
              "        const buttonEl =\n",
              "          document.querySelector('#df-6f38eec6-f7ac-430c-8cf7-49fb931f474e button.colab-df-convert');\n",
              "        buttonEl.style.display =\n",
              "          google.colab.kernel.accessAllowed ? 'block' : 'none';\n",
              "\n",
              "        async function convertToInteractive(key) {\n",
              "          const element = document.querySelector('#df-6f38eec6-f7ac-430c-8cf7-49fb931f474e');\n",
              "          const dataTable =\n",
              "            await google.colab.kernel.invokeFunction('convertToInteractive',\n",
              "                                                     [key], {});\n",
              "          if (!dataTable) return;\n",
              "\n",
              "          const docLinkHtml = 'Like what you see? Visit the ' +\n",
              "            '<a target=\"_blank\" href=https://colab.research.google.com/notebooks/data_table.ipynb>data table notebook</a>'\n",
              "            + ' to learn more about interactive tables.';\n",
              "          element.innerHTML = '';\n",
              "          dataTable['output_type'] = 'display_data';\n",
              "          await google.colab.output.renderOutput(dataTable, element);\n",
              "          const docLink = document.createElement('div');\n",
              "          docLink.innerHTML = docLinkHtml;\n",
              "          element.appendChild(docLink);\n",
              "        }\n",
              "      </script>\n",
              "    </div>\n",
              "  </div>\n",
              "  "
            ]
          },
          "metadata": {},
          "execution_count": 40
        }
      ]
    },
    {
      "cell_type": "code",
      "source": [],
      "metadata": {
        "id": "EBv_N5th7apZ"
      },
      "execution_count": null,
      "outputs": []
    }
  ]
}