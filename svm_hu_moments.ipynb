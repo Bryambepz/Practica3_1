{
  "nbformat": 4,
  "nbformat_minor": 0,
  "metadata": {
    "colab": {
      "provenance": []
    },
    "kernelspec": {
      "name": "python3",
      "display_name": "Python 3"
    },
    "language_info": {
      "name": "python"
    }
  },
  "cells": [
    {
      "cell_type": "markdown",
      "source": [
        "# Creamos el cuaderno para el clasificador"
      ],
      "metadata": {
        "id": "bAlNJUW79KWi"
      }
    },
    {
      "cell_type": "markdown",
      "source": [
        "# Importamos las Librerias necesarias"
      ],
      "metadata": {
        "id": "v8-YDiXM9PTV"
      }
    },
    {
      "cell_type": "code",
      "execution_count": null,
      "metadata": {
        "id": "oPlDTij7ubHl"
      },
      "outputs": [],
      "source": [
        "import pandas as pd\n",
        "import os\n",
        "from skimage.transform import resize\n",
        "from skimage.io import imread\n",
        "import numpy as np\n",
        "import matplotlib.pyplot as plt\n",
        "\n",
        "from sklearn import svm\n",
        "from sklearn.model_selection import GridSearchCV\n",
        "from sklearn.model_selection import train_test_split"
      ]
    },
    {
      "cell_type": "markdown",
      "source": [
        "#Importamos los datasets"
      ],
      "metadata": {
        "id": "GB0_UMJK9TSW"
      }
    },
    {
      "cell_type": "code",
      "source": [
        "from google.colab import drive\n",
        "drive.mount('/content/drive')"
      ],
      "metadata": {
        "colab": {
          "base_uri": "https://localhost:8080/"
        },
        "id": "juusveSUugVm",
        "outputId": "de20f8d4-8c0c-4895-da54-def007cd43f8"
      },
      "execution_count": null,
      "outputs": [
        {
          "output_type": "stream",
          "name": "stdout",
          "text": [
            "Drive already mounted at /content/drive; to attempt to forcibly remount, call drive.mount(\"/content/drive\", force_remount=True).\n"
          ]
        }
      ]
    },
    {
      "cell_type": "code",
      "source": [
        "%cd /content/drive/My Drive/Colab Notebooks/momentos_data\n",
        "%ls"
      ],
      "metadata": {
        "colab": {
          "base_uri": "https://localhost:8080/"
        },
        "id": "1QmM32tpug8I",
        "outputId": "64f58679-a8e5-4d96-f4ef-f4912789f62a"
      },
      "execution_count": null,
      "outputs": [
        {
          "output_type": "stream",
          "name": "stdout",
          "text": [
            "/content/drive/My Drive/Colab Notebooks/momentos_data\n",
            "csv_test.csv  csv_train.csv\n"
          ]
        }
      ]
    },
    {
      "cell_type": "code",
      "source": [
        "df_train = pd.read_csv('/content/drive/My Drive/Colab Notebooks/momentos_data/csv_train.csv', sep = ',')\n",
        "df_train.head()"
      ],
      "metadata": {
        "colab": {
          "base_uri": "https://localhost:8080/",
          "height": 206
        },
        "id": "fA_mgWasun6S",
        "outputId": "533e9da2-3eb4-4b1c-ee2e-d99c7e58e327"
      },
      "execution_count": null,
      "outputs": [
        {
          "output_type": "execute_result",
          "data": {
            "text/plain": [
              "   momento1      momento2      momento3      momento4      momento5  \\\n",
              "0  0.160387  6.788900e-07  1.027370e-07  2.281560e-10  7.025530e-19   \n",
              "1  0.160402  1.009730e-06  7.079730e-07  1.233970e-09  7.661080e-18   \n",
              "2  0.160385  2.893700e-07  7.408430e-10  4.880910e-12  2.574750e-22   \n",
              "3  0.160369  3.371730e-08  2.747770e-09  1.107550e-12 -3.703780e-23   \n",
              "4  0.160386  1.737890e-07  1.759000e-09  3.788780e-11  9.328160e-21   \n",
              "\n",
              "       momento6      momento7 poligono  \n",
              "0  1.592460e-13  8.524030e-19  Hexagon  \n",
              "1 -1.237850e-12 -3.565890e-17  Hexagon  \n",
              "2  1.642550e-15 -1.408940e-22  Hexagon  \n",
              "3  2.522020e-17  4.859290e-23  Hexagon  \n",
              "4  1.280510e-14 -2.941630e-21  Hexagon  "
            ],
            "text/html": [
              "\n",
              "  <div id=\"df-f056d83f-546d-45eb-a2cc-ccfa3156aca9\">\n",
              "    <div class=\"colab-df-container\">\n",
              "      <div>\n",
              "<style scoped>\n",
              "    .dataframe tbody tr th:only-of-type {\n",
              "        vertical-align: middle;\n",
              "    }\n",
              "\n",
              "    .dataframe tbody tr th {\n",
              "        vertical-align: top;\n",
              "    }\n",
              "\n",
              "    .dataframe thead th {\n",
              "        text-align: right;\n",
              "    }\n",
              "</style>\n",
              "<table border=\"1\" class=\"dataframe\">\n",
              "  <thead>\n",
              "    <tr style=\"text-align: right;\">\n",
              "      <th></th>\n",
              "      <th>momento1</th>\n",
              "      <th>momento2</th>\n",
              "      <th>momento3</th>\n",
              "      <th>momento4</th>\n",
              "      <th>momento5</th>\n",
              "      <th>momento6</th>\n",
              "      <th>momento7</th>\n",
              "      <th>poligono</th>\n",
              "    </tr>\n",
              "  </thead>\n",
              "  <tbody>\n",
              "    <tr>\n",
              "      <th>0</th>\n",
              "      <td>0.160387</td>\n",
              "      <td>6.788900e-07</td>\n",
              "      <td>1.027370e-07</td>\n",
              "      <td>2.281560e-10</td>\n",
              "      <td>7.025530e-19</td>\n",
              "      <td>1.592460e-13</td>\n",
              "      <td>8.524030e-19</td>\n",
              "      <td>Hexagon</td>\n",
              "    </tr>\n",
              "    <tr>\n",
              "      <th>1</th>\n",
              "      <td>0.160402</td>\n",
              "      <td>1.009730e-06</td>\n",
              "      <td>7.079730e-07</td>\n",
              "      <td>1.233970e-09</td>\n",
              "      <td>7.661080e-18</td>\n",
              "      <td>-1.237850e-12</td>\n",
              "      <td>-3.565890e-17</td>\n",
              "      <td>Hexagon</td>\n",
              "    </tr>\n",
              "    <tr>\n",
              "      <th>2</th>\n",
              "      <td>0.160385</td>\n",
              "      <td>2.893700e-07</td>\n",
              "      <td>7.408430e-10</td>\n",
              "      <td>4.880910e-12</td>\n",
              "      <td>2.574750e-22</td>\n",
              "      <td>1.642550e-15</td>\n",
              "      <td>-1.408940e-22</td>\n",
              "      <td>Hexagon</td>\n",
              "    </tr>\n",
              "    <tr>\n",
              "      <th>3</th>\n",
              "      <td>0.160369</td>\n",
              "      <td>3.371730e-08</td>\n",
              "      <td>2.747770e-09</td>\n",
              "      <td>1.107550e-12</td>\n",
              "      <td>-3.703780e-23</td>\n",
              "      <td>2.522020e-17</td>\n",
              "      <td>4.859290e-23</td>\n",
              "      <td>Hexagon</td>\n",
              "    </tr>\n",
              "    <tr>\n",
              "      <th>4</th>\n",
              "      <td>0.160386</td>\n",
              "      <td>1.737890e-07</td>\n",
              "      <td>1.759000e-09</td>\n",
              "      <td>3.788780e-11</td>\n",
              "      <td>9.328160e-21</td>\n",
              "      <td>1.280510e-14</td>\n",
              "      <td>-2.941630e-21</td>\n",
              "      <td>Hexagon</td>\n",
              "    </tr>\n",
              "  </tbody>\n",
              "</table>\n",
              "</div>\n",
              "      <button class=\"colab-df-convert\" onclick=\"convertToInteractive('df-f056d83f-546d-45eb-a2cc-ccfa3156aca9')\"\n",
              "              title=\"Convert this dataframe to an interactive table.\"\n",
              "              style=\"display:none;\">\n",
              "        \n",
              "  <svg xmlns=\"http://www.w3.org/2000/svg\" height=\"24px\"viewBox=\"0 0 24 24\"\n",
              "       width=\"24px\">\n",
              "    <path d=\"M0 0h24v24H0V0z\" fill=\"none\"/>\n",
              "    <path d=\"M18.56 5.44l.94 2.06.94-2.06 2.06-.94-2.06-.94-.94-2.06-.94 2.06-2.06.94zm-11 1L8.5 8.5l.94-2.06 2.06-.94-2.06-.94L8.5 2.5l-.94 2.06-2.06.94zm10 10l.94 2.06.94-2.06 2.06-.94-2.06-.94-.94-2.06-.94 2.06-2.06.94z\"/><path d=\"M17.41 7.96l-1.37-1.37c-.4-.4-.92-.59-1.43-.59-.52 0-1.04.2-1.43.59L10.3 9.45l-7.72 7.72c-.78.78-.78 2.05 0 2.83L4 21.41c.39.39.9.59 1.41.59.51 0 1.02-.2 1.41-.59l7.78-7.78 2.81-2.81c.8-.78.8-2.07 0-2.86zM5.41 20L4 18.59l7.72-7.72 1.47 1.35L5.41 20z\"/>\n",
              "  </svg>\n",
              "      </button>\n",
              "      \n",
              "  <style>\n",
              "    .colab-df-container {\n",
              "      display:flex;\n",
              "      flex-wrap:wrap;\n",
              "      gap: 12px;\n",
              "    }\n",
              "\n",
              "    .colab-df-convert {\n",
              "      background-color: #E8F0FE;\n",
              "      border: none;\n",
              "      border-radius: 50%;\n",
              "      cursor: pointer;\n",
              "      display: none;\n",
              "      fill: #1967D2;\n",
              "      height: 32px;\n",
              "      padding: 0 0 0 0;\n",
              "      width: 32px;\n",
              "    }\n",
              "\n",
              "    .colab-df-convert:hover {\n",
              "      background-color: #E2EBFA;\n",
              "      box-shadow: 0px 1px 2px rgba(60, 64, 67, 0.3), 0px 1px 3px 1px rgba(60, 64, 67, 0.15);\n",
              "      fill: #174EA6;\n",
              "    }\n",
              "\n",
              "    [theme=dark] .colab-df-convert {\n",
              "      background-color: #3B4455;\n",
              "      fill: #D2E3FC;\n",
              "    }\n",
              "\n",
              "    [theme=dark] .colab-df-convert:hover {\n",
              "      background-color: #434B5C;\n",
              "      box-shadow: 0px 1px 3px 1px rgba(0, 0, 0, 0.15);\n",
              "      filter: drop-shadow(0px 1px 2px rgba(0, 0, 0, 0.3));\n",
              "      fill: #FFFFFF;\n",
              "    }\n",
              "  </style>\n",
              "\n",
              "      <script>\n",
              "        const buttonEl =\n",
              "          document.querySelector('#df-f056d83f-546d-45eb-a2cc-ccfa3156aca9 button.colab-df-convert');\n",
              "        buttonEl.style.display =\n",
              "          google.colab.kernel.accessAllowed ? 'block' : 'none';\n",
              "\n",
              "        async function convertToInteractive(key) {\n",
              "          const element = document.querySelector('#df-f056d83f-546d-45eb-a2cc-ccfa3156aca9');\n",
              "          const dataTable =\n",
              "            await google.colab.kernel.invokeFunction('convertToInteractive',\n",
              "                                                     [key], {});\n",
              "          if (!dataTable) return;\n",
              "\n",
              "          const docLinkHtml = 'Like what you see? Visit the ' +\n",
              "            '<a target=\"_blank\" href=https://colab.research.google.com/notebooks/data_table.ipynb>data table notebook</a>'\n",
              "            + ' to learn more about interactive tables.';\n",
              "          element.innerHTML = '';\n",
              "          dataTable['output_type'] = 'display_data';\n",
              "          await google.colab.output.renderOutput(dataTable, element);\n",
              "          const docLink = document.createElement('div');\n",
              "          docLink.innerHTML = docLinkHtml;\n",
              "          element.appendChild(docLink);\n",
              "        }\n",
              "      </script>\n",
              "    </div>\n",
              "  </div>\n",
              "  "
            ]
          },
          "metadata": {},
          "execution_count": 75
        }
      ]
    },
    {
      "cell_type": "code",
      "source": [
        "df_test = pd.read_csv('/content/drive/My Drive/Colab Notebooks/momentos_data/csv_test.csv', sep = ',')\n",
        "df_test.head()"
      ],
      "metadata": {
        "colab": {
          "base_uri": "https://localhost:8080/",
          "height": 206
        },
        "id": "pebjhAgbvK4e",
        "outputId": "b2a8f100-7cfb-412c-f700-fc768bd7a1ac"
      },
      "execution_count": null,
      "outputs": [
        {
          "output_type": "execute_result",
          "data": {
            "text/plain": [
              "   momento1      momento2      momento3      momento4      momento5  \\\n",
              "0  0.160387  6.788900e-07  1.027370e-07  2.281560e-10  7.025530e-19   \n",
              "1  0.160402  1.009730e-06  7.079730e-07  1.233970e-09  7.661080e-18   \n",
              "2  0.160385  2.893700e-07  7.408430e-10  4.880910e-12  2.574750e-22   \n",
              "3  0.160369  3.371730e-08  2.747770e-09  1.107550e-12 -3.703780e-23   \n",
              "4  0.160345  1.105650e-07  5.112940e-10  6.448440e-11  4.297160e-21   \n",
              "\n",
              "       momento6      momento7 poligono  \n",
              "0  1.592460e-13  8.524030e-19  Hexagon  \n",
              "1 -1.237850e-12 -3.565890e-17  Hexagon  \n",
              "2  1.642550e-15 -1.408940e-22  Hexagon  \n",
              "3  2.522020e-17  4.859290e-23  Hexagon  \n",
              "4 -1.582600e-15 -1.089190e-20  Hexagon  "
            ],
            "text/html": [
              "\n",
              "  <div id=\"df-f047d6bf-5c11-4385-9600-10da0e96b142\">\n",
              "    <div class=\"colab-df-container\">\n",
              "      <div>\n",
              "<style scoped>\n",
              "    .dataframe tbody tr th:only-of-type {\n",
              "        vertical-align: middle;\n",
              "    }\n",
              "\n",
              "    .dataframe tbody tr th {\n",
              "        vertical-align: top;\n",
              "    }\n",
              "\n",
              "    .dataframe thead th {\n",
              "        text-align: right;\n",
              "    }\n",
              "</style>\n",
              "<table border=\"1\" class=\"dataframe\">\n",
              "  <thead>\n",
              "    <tr style=\"text-align: right;\">\n",
              "      <th></th>\n",
              "      <th>momento1</th>\n",
              "      <th>momento2</th>\n",
              "      <th>momento3</th>\n",
              "      <th>momento4</th>\n",
              "      <th>momento5</th>\n",
              "      <th>momento6</th>\n",
              "      <th>momento7</th>\n",
              "      <th>poligono</th>\n",
              "    </tr>\n",
              "  </thead>\n",
              "  <tbody>\n",
              "    <tr>\n",
              "      <th>0</th>\n",
              "      <td>0.160387</td>\n",
              "      <td>6.788900e-07</td>\n",
              "      <td>1.027370e-07</td>\n",
              "      <td>2.281560e-10</td>\n",
              "      <td>7.025530e-19</td>\n",
              "      <td>1.592460e-13</td>\n",
              "      <td>8.524030e-19</td>\n",
              "      <td>Hexagon</td>\n",
              "    </tr>\n",
              "    <tr>\n",
              "      <th>1</th>\n",
              "      <td>0.160402</td>\n",
              "      <td>1.009730e-06</td>\n",
              "      <td>7.079730e-07</td>\n",
              "      <td>1.233970e-09</td>\n",
              "      <td>7.661080e-18</td>\n",
              "      <td>-1.237850e-12</td>\n",
              "      <td>-3.565890e-17</td>\n",
              "      <td>Hexagon</td>\n",
              "    </tr>\n",
              "    <tr>\n",
              "      <th>2</th>\n",
              "      <td>0.160385</td>\n",
              "      <td>2.893700e-07</td>\n",
              "      <td>7.408430e-10</td>\n",
              "      <td>4.880910e-12</td>\n",
              "      <td>2.574750e-22</td>\n",
              "      <td>1.642550e-15</td>\n",
              "      <td>-1.408940e-22</td>\n",
              "      <td>Hexagon</td>\n",
              "    </tr>\n",
              "    <tr>\n",
              "      <th>3</th>\n",
              "      <td>0.160369</td>\n",
              "      <td>3.371730e-08</td>\n",
              "      <td>2.747770e-09</td>\n",
              "      <td>1.107550e-12</td>\n",
              "      <td>-3.703780e-23</td>\n",
              "      <td>2.522020e-17</td>\n",
              "      <td>4.859290e-23</td>\n",
              "      <td>Hexagon</td>\n",
              "    </tr>\n",
              "    <tr>\n",
              "      <th>4</th>\n",
              "      <td>0.160345</td>\n",
              "      <td>1.105650e-07</td>\n",
              "      <td>5.112940e-10</td>\n",
              "      <td>6.448440e-11</td>\n",
              "      <td>4.297160e-21</td>\n",
              "      <td>-1.582600e-15</td>\n",
              "      <td>-1.089190e-20</td>\n",
              "      <td>Hexagon</td>\n",
              "    </tr>\n",
              "  </tbody>\n",
              "</table>\n",
              "</div>\n",
              "      <button class=\"colab-df-convert\" onclick=\"convertToInteractive('df-f047d6bf-5c11-4385-9600-10da0e96b142')\"\n",
              "              title=\"Convert this dataframe to an interactive table.\"\n",
              "              style=\"display:none;\">\n",
              "        \n",
              "  <svg xmlns=\"http://www.w3.org/2000/svg\" height=\"24px\"viewBox=\"0 0 24 24\"\n",
              "       width=\"24px\">\n",
              "    <path d=\"M0 0h24v24H0V0z\" fill=\"none\"/>\n",
              "    <path d=\"M18.56 5.44l.94 2.06.94-2.06 2.06-.94-2.06-.94-.94-2.06-.94 2.06-2.06.94zm-11 1L8.5 8.5l.94-2.06 2.06-.94-2.06-.94L8.5 2.5l-.94 2.06-2.06.94zm10 10l.94 2.06.94-2.06 2.06-.94-2.06-.94-.94-2.06-.94 2.06-2.06.94z\"/><path d=\"M17.41 7.96l-1.37-1.37c-.4-.4-.92-.59-1.43-.59-.52 0-1.04.2-1.43.59L10.3 9.45l-7.72 7.72c-.78.78-.78 2.05 0 2.83L4 21.41c.39.39.9.59 1.41.59.51 0 1.02-.2 1.41-.59l7.78-7.78 2.81-2.81c.8-.78.8-2.07 0-2.86zM5.41 20L4 18.59l7.72-7.72 1.47 1.35L5.41 20z\"/>\n",
              "  </svg>\n",
              "      </button>\n",
              "      \n",
              "  <style>\n",
              "    .colab-df-container {\n",
              "      display:flex;\n",
              "      flex-wrap:wrap;\n",
              "      gap: 12px;\n",
              "    }\n",
              "\n",
              "    .colab-df-convert {\n",
              "      background-color: #E8F0FE;\n",
              "      border: none;\n",
              "      border-radius: 50%;\n",
              "      cursor: pointer;\n",
              "      display: none;\n",
              "      fill: #1967D2;\n",
              "      height: 32px;\n",
              "      padding: 0 0 0 0;\n",
              "      width: 32px;\n",
              "    }\n",
              "\n",
              "    .colab-df-convert:hover {\n",
              "      background-color: #E2EBFA;\n",
              "      box-shadow: 0px 1px 2px rgba(60, 64, 67, 0.3), 0px 1px 3px 1px rgba(60, 64, 67, 0.15);\n",
              "      fill: #174EA6;\n",
              "    }\n",
              "\n",
              "    [theme=dark] .colab-df-convert {\n",
              "      background-color: #3B4455;\n",
              "      fill: #D2E3FC;\n",
              "    }\n",
              "\n",
              "    [theme=dark] .colab-df-convert:hover {\n",
              "      background-color: #434B5C;\n",
              "      box-shadow: 0px 1px 3px 1px rgba(0, 0, 0, 0.15);\n",
              "      filter: drop-shadow(0px 1px 2px rgba(0, 0, 0, 0.3));\n",
              "      fill: #FFFFFF;\n",
              "    }\n",
              "  </style>\n",
              "\n",
              "      <script>\n",
              "        const buttonEl =\n",
              "          document.querySelector('#df-f047d6bf-5c11-4385-9600-10da0e96b142 button.colab-df-convert');\n",
              "        buttonEl.style.display =\n",
              "          google.colab.kernel.accessAllowed ? 'block' : 'none';\n",
              "\n",
              "        async function convertToInteractive(key) {\n",
              "          const element = document.querySelector('#df-f047d6bf-5c11-4385-9600-10da0e96b142');\n",
              "          const dataTable =\n",
              "            await google.colab.kernel.invokeFunction('convertToInteractive',\n",
              "                                                     [key], {});\n",
              "          if (!dataTable) return;\n",
              "\n",
              "          const docLinkHtml = 'Like what you see? Visit the ' +\n",
              "            '<a target=\"_blank\" href=https://colab.research.google.com/notebooks/data_table.ipynb>data table notebook</a>'\n",
              "            + ' to learn more about interactive tables.';\n",
              "          element.innerHTML = '';\n",
              "          dataTable['output_type'] = 'display_data';\n",
              "          await google.colab.output.renderOutput(dataTable, element);\n",
              "          const docLink = document.createElement('div');\n",
              "          docLink.innerHTML = docLinkHtml;\n",
              "          element.appendChild(docLink);\n",
              "        }\n",
              "      </script>\n",
              "    </div>\n",
              "  </div>\n",
              "  "
            ]
          },
          "metadata": {},
          "execution_count": 76
        }
      ]
    },
    {
      "cell_type": "markdown",
      "source": [
        "# Se separan los datos para ser usados después en la máquina de soporte vectorial"
      ],
      "metadata": {
        "id": "dPSp6v7U9aZh"
      }
    },
    {
      "cell_type": "code",
      "source": [
        "x_train = df_train.iloc[:,0:-1]\n",
        "x_train\n",
        "y_train = df_train.iloc[:,-1]\n",
        "y_train"
      ],
      "metadata": {
        "colab": {
          "base_uri": "https://localhost:8080/"
        },
        "id": "i55kNXmavNo-",
        "outputId": "c051cc3d-fedf-47ff-ff12-4c7b67838c94"
      },
      "execution_count": null,
      "outputs": [
        {
          "output_type": "execute_result",
          "data": {
            "text/plain": [
              "0      Hexagon\n",
              "1      Hexagon\n",
              "2      Hexagon\n",
              "3      Hexagon\n",
              "4      Hexagon\n",
              "        ...   \n",
              "995       Star\n",
              "996       Star\n",
              "997       Star\n",
              "998       Star\n",
              "999       Star\n",
              "Name: poligono, Length: 1000, dtype: object"
            ]
          },
          "metadata": {},
          "execution_count": 111
        }
      ]
    },
    {
      "cell_type": "code",
      "source": [
        "x_test = df_test.iloc[:,0:-1]\n",
        "x_test\n",
        "y_test = df_test.iloc[:,-1]\n",
        "y_test"
      ],
      "metadata": {
        "colab": {
          "base_uri": "https://localhost:8080/"
        },
        "id": "tI3YE1ijwrit",
        "outputId": "71086e9e-3c90-4494-d72a-db5d649f9d5a"
      },
      "execution_count": null,
      "outputs": [
        {
          "output_type": "execute_result",
          "data": {
            "text/plain": [
              "0      Hexagon\n",
              "1      Hexagon\n",
              "2      Hexagon\n",
              "3      Hexagon\n",
              "4      Hexagon\n",
              "        ...   \n",
              "695       Star\n",
              "696       Star\n",
              "697       Star\n",
              "698       Star\n",
              "699       Star\n",
              "Name: poligono, Length: 700, dtype: object"
            ]
          },
          "metadata": {},
          "execution_count": 112
        }
      ]
    },
    {
      "cell_type": "code",
      "source": [
        "print(x_train.shape)\n",
        "print(y_train.shape)\n",
        "print(x_test.shape)\n",
        "print(y_test.shape)"
      ],
      "metadata": {
        "colab": {
          "base_uri": "https://localhost:8080/"
        },
        "id": "iG8Zrz_HwzrF",
        "outputId": "e02280c9-b7ae-49af-c921-24b19ff0f101"
      },
      "execution_count": null,
      "outputs": [
        {
          "output_type": "stream",
          "name": "stdout",
          "text": [
            "(1000, 7)\n",
            "(1000,)\n",
            "(700, 7)\n",
            "(700,)\n"
          ]
        }
      ]
    },
    {
      "cell_type": "markdown",
      "source": [
        "# Instamaciamos la SVM"
      ],
      "metadata": {
        "id": "Y-HkChzS9mNO"
      }
    },
    {
      "cell_type": "code",
      "source": [
        "param_grid={'C':[0.1,1,10,100],'gamma':[1,0.1,0.01,0.001,0.001],'kernel':['rbf','poly', 'linear', 'sigmoid']}\n",
        "svc=svm.SVC(probability=True)\n",
        "model=GridSearchCV(svc,param_grid, n_jobs=-1, verbose = 1, cv=5)"
      ],
      "metadata": {
        "id": "AcGrdV9DyBCb"
      },
      "execution_count": null,
      "outputs": []
    },
    {
      "cell_type": "code",
      "source": [
        "model.fit(x_train, y_train)\n",
        "print('The Model is trained well with the given images')"
      ],
      "metadata": {
        "colab": {
          "base_uri": "https://localhost:8080/"
        },
        "id": "BsLq2aDAyOeZ",
        "outputId": "3363fa35-5bc8-40b6-e1a3-77fe6b83b08c"
      },
      "execution_count": null,
      "outputs": [
        {
          "output_type": "stream",
          "name": "stdout",
          "text": [
            "Fitting 5 folds for each of 80 candidates, totalling 400 fits\n",
            "The Model is trained well with the given images\n"
          ]
        }
      ]
    },
    {
      "cell_type": "markdown",
      "source": [
        "# Evaluamos y obtenemos los resultados"
      ],
      "metadata": {
        "id": "nEqHP0uE9p4H"
      }
    },
    {
      "cell_type": "code",
      "source": [
        "from sklearn import metrics\n",
        "y_pred = model.predict(x_test)\n",
        "print(\"Accuracy:\",metrics.accuracy_score(y_test, y_pred))"
      ],
      "metadata": {
        "colab": {
          "base_uri": "https://localhost:8080/"
        },
        "id": "lryodO2-yYWs",
        "outputId": "ddb3dda8-c1e2-457c-ff2c-826112823c1b"
      },
      "execution_count": null,
      "outputs": [
        {
          "output_type": "stream",
          "name": "stdout",
          "text": [
            "Accuracy: 0.6528571428571428\n"
          ]
        }
      ]
    },
    {
      "cell_type": "code",
      "source": [
        "model.best_params_"
      ],
      "metadata": {
        "colab": {
          "base_uri": "https://localhost:8080/"
        },
        "id": "EHPePsVr1QBS",
        "outputId": "10913ad9-f7c8-4fc7-d21b-df5d1532e4e3"
      },
      "execution_count": null,
      "outputs": [
        {
          "output_type": "execute_result",
          "data": {
            "text/plain": [
              "{'C': 100, 'gamma': 0.1, 'kernel': 'rbf'}"
            ]
          },
          "metadata": {},
          "execution_count": 121
        }
      ]
    },
    {
      "cell_type": "code",
      "source": [
        "import seaborn as sns\n",
        "from sklearn.metrics import confusion_matrix\n",
        "from sklearn import metrics \n",
        "from sklearn.metrics import accuracy_score\n",
        "from sklearn.metrics import precision_score\n",
        "from sklearn.metrics import recall_score\n",
        "from sklearn.metrics import f1_score\n",
        "\n",
        "\n",
        "\n",
        "# MAE=metrics.mean_absolute_error(y_test, y_pred)\n",
        "# MSE=metrics.mean_squared_error(y_test, y_pred)\n",
        "# RMSE=np.sqrt(metrics.mean_squared_error(y_test, y_pred))\n",
        "accuracy=str(accuracy_score(y_test, y_pred))\n",
        "\n",
        "# MAE=str(round(MAE, 4))\n",
        "# MSE=str(round(MSE, 4))\n",
        "# RMSE=str(round(RMSE, 4))\n",
        "\n",
        "print('Confusion_matrix:')\n",
        "y_test_transformado = y_test\n",
        "y_pred_transformado = y_pred\n",
        "\n",
        "cm = confusion_matrix(y_test_transformado, y_pred_transformado)\n",
        "ax= plt.subplot()\n",
        "sns.heatmap(cm, annot=True, ax = ax, cmap='Blues', fmt='g'); #annot=True to annotate cells\n",
        "ax.set_xlabel('Predicción');ax.set_ylabel('Real'); \n",
        "ax.set_title('Matriz de confusión de la Red'); "
      ],
      "metadata": {
        "colab": {
          "base_uri": "https://localhost:8080/",
          "height": 313
        },
        "id": "9NIGEspV5fxQ",
        "outputId": "7fe76fbf-9371-4b47-aea5-aef622eb92b7"
      },
      "execution_count": null,
      "outputs": [
        {
          "output_type": "stream",
          "name": "stdout",
          "text": [
            "Confusion_matrix:\n"
          ]
        },
        {
          "output_type": "display_data",
          "data": {
            "text/plain": [
              "<Figure size 432x288 with 2 Axes>"
            ],
            "image/png": "[encoded data removed]"
          },
          "metadata": {
            "needs_background": "light"
          }
        }
      ]
    },
    {
      "cell_type": "code",
      "source": [
        "precision=precision_score(y_test, y_pred, average='micro')\n",
        "precision=str(round(precision, 4))\n",
        "recall=recall_score(y_test, y_pred, average='micro')\n",
        "recall=str(round(recall, 4))\n",
        "f1=f1_score(y_test, y_pred, average='micro')\n",
        "f1=str(round(f1, 4))\n"
      ],
      "metadata": {
        "id": "cuWzL6ps5hOS"
      },
      "execution_count": null,
      "outputs": []
    },
    {
      "cell_type": "code",
      "source": [
        "colums = ['Accuracy', 'Precision', 'Recall', 'F1']\n",
        "vals = {'Accuracy': 0.6528571428571428, 'Precision':0.6529, 'Recall':0.6529, 'F1':0.6529}\n",
        "df_metrics = pd.DataFrame(columns=colums)\n",
        "df_metrics = df_metrics.append(vals, ignore_index=True)\n",
        "df_metrics"
      ],
      "metadata": {
        "colab": {
          "base_uri": "https://localhost:8080/",
          "height": 81
        },
        "id": "Y6c4CNQ-6EvC",
        "outputId": "19520fe6-428d-4fc1-f6fc-077236deb518"
      },
      "execution_count": null,
      "outputs": [
        {
          "output_type": "execute_result",
          "data": {
            "text/plain": [
              "   Accuracy  Precision  Recall      F1\n",
              "0  0.652857     0.6529  0.6529  0.6529"
            ],
            "text/html": [
              "\n",
              "  <div id=\"df-fbff22b4-4ad3-459d-afac-84386c2b8155\">\n",
              "    <div class=\"colab-df-container\">\n",
              "      <div>\n",
              "<style scoped>\n",
              "    .dataframe tbody tr th:only-of-type {\n",
              "        vertical-align: middle;\n",
              "    }\n",
              "\n",
              "    .dataframe tbody tr th {\n",
              "        vertical-align: top;\n",
              "    }\n",
              "\n",
              "    .dataframe thead th {\n",
              "        text-align: right;\n",
              "    }\n",
              "</style>\n",
              "<table border=\"1\" class=\"dataframe\">\n",
              "  <thead>\n",
              "    <tr style=\"text-align: right;\">\n",
              "      <th></th>\n",
              "      <th>Accuracy</th>\n",
              "      <th>Precision</th>\n",
              "      <th>Recall</th>\n",
              "      <th>F1</th>\n",
              "    </tr>\n",
              "  </thead>\n",
              "  <tbody>\n",
              "    <tr>\n",
              "      <th>0</th>\n",
              "      <td>0.652857</td>\n",
              "      <td>0.6529</td>\n",
              "      <td>0.6529</td>\n",
              "      <td>0.6529</td>\n",
              "    </tr>\n",
              "  </tbody>\n",
              "</table>\n",
              "</div>\n",
              "      <button class=\"colab-df-convert\" onclick=\"convertToInteractive('df-fbff22b4-4ad3-459d-afac-84386c2b8155')\"\n",
              "              title=\"Convert this dataframe to an interactive table.\"\n",
              "              style=\"display:none;\">\n",
              "        \n",
              "  <svg xmlns=\"http://www.w3.org/2000/svg\" height=\"24px\"viewBox=\"0 0 24 24\"\n",
              "       width=\"24px\">\n",
              "    <path d=\"M0 0h24v24H0V0z\" fill=\"none\"/>\n",
              "    <path d=\"M18.56 5.44l.94 2.06.94-2.06 2.06-.94-2.06-.94-.94-2.06-.94 2.06-2.06.94zm-11 1L8.5 8.5l.94-2.06 2.06-.94-2.06-.94L8.5 2.5l-.94 2.06-2.06.94zm10 10l.94 2.06.94-2.06 2.06-.94-2.06-.94-.94-2.06-.94 2.06-2.06.94z\"/><path d=\"M17.41 7.96l-1.37-1.37c-.4-.4-.92-.59-1.43-.59-.52 0-1.04.2-1.43.59L10.3 9.45l-7.72 7.72c-.78.78-.78 2.05 0 2.83L4 21.41c.39.39.9.59 1.41.59.51 0 1.02-.2 1.41-.59l7.78-7.78 2.81-2.81c.8-.78.8-2.07 0-2.86zM5.41 20L4 18.59l7.72-7.72 1.47 1.35L5.41 20z\"/>\n",
              "  </svg>\n",
              "      </button>\n",
              "      \n",
              "  <style>\n",
              "    .colab-df-container {\n",
              "      display:flex;\n",
              "      flex-wrap:wrap;\n",
              "      gap: 12px;\n",
              "    }\n",
              "\n",
              "    .colab-df-convert {\n",
              "      background-color: #E8F0FE;\n",
              "      border: none;\n",
              "      border-radius: 50%;\n",
              "      cursor: pointer;\n",
              "      display: none;\n",
              "      fill: #1967D2;\n",
              "      height: 32px;\n",
              "      padding: 0 0 0 0;\n",
              "      width: 32px;\n",
              "    }\n",
              "\n",
              "    .colab-df-convert:hover {\n",
              "      background-color: #E2EBFA;\n",
              "      box-shadow: 0px 1px 2px rgba(60, 64, 67, 0.3), 0px 1px 3px 1px rgba(60, 64, 67, 0.15);\n",
              "      fill: #174EA6;\n",
              "    }\n",
              "\n",
              "    [theme=dark] .colab-df-convert {\n",
              "      background-color: #3B4455;\n",
              "      fill: #D2E3FC;\n",
              "    }\n",
              "\n",
              "    [theme=dark] .colab-df-convert:hover {\n",
              "      background-color: #434B5C;\n",
              "      box-shadow: 0px 1px 3px 1px rgba(0, 0, 0, 0.15);\n",
              "      filter: drop-shadow(0px 1px 2px rgba(0, 0, 0, 0.3));\n",
              "      fill: #FFFFFF;\n",
              "    }\n",
              "  </style>\n",
              "\n",
              "      <script>\n",
              "        const buttonEl =\n",
              "          document.querySelector('#df-fbff22b4-4ad3-459d-afac-84386c2b8155 button.colab-df-convert');\n",
              "        buttonEl.style.display =\n",
              "          google.colab.kernel.accessAllowed ? 'block' : 'none';\n",
              "\n",
              "        async function convertToInteractive(key) {\n",
              "          const element = document.querySelector('#df-fbff22b4-4ad3-459d-afac-84386c2b8155');\n",
              "          const dataTable =\n",
              "            await google.colab.kernel.invokeFunction('convertToInteractive',\n",
              "                                                     [key], {});\n",
              "          if (!dataTable) return;\n",
              "\n",
              "          const docLinkHtml = 'Like what you see? Visit the ' +\n",
              "            '<a target=\"_blank\" href=https://colab.research.google.com/notebooks/data_table.ipynb>data table notebook</a>'\n",
              "            + ' to learn more about interactive tables.';\n",
              "          element.innerHTML = '';\n",
              "          dataTable['output_type'] = 'display_data';\n",
              "          await google.colab.output.renderOutput(dataTable, element);\n",
              "          const docLink = document.createElement('div');\n",
              "          docLink.innerHTML = docLinkHtml;\n",
              "          element.appendChild(docLink);\n",
              "        }\n",
              "      </script>\n",
              "    </div>\n",
              "  </div>\n",
              "  "
            ]
          },
          "metadata": {},
          "execution_count": 144
        }
      ]
    },
    {
      "cell_type": "code",
      "source": [],
      "metadata": {
        "id": "EBv_N5th7apZ"
      },
      "execution_count": null,
      "outputs": []
    }
  ]
}